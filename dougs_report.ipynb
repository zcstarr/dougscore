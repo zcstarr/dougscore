{
 "cells": [
  {
   "cell_type": "markdown",
   "metadata": {},
   "source": [
    "# Intro Doug Score - A look from an analytical angle\n",
    "\n",
    "In this report, I provide a quick insight into how Doug Demuro an avid car reviewer, might be evaluating cars. This analysis starts with a look at the review data, from the \n",
    "number of brands he's reviewed, the countries of the cars the age of the car, as well as filming location. We'll take a look at all of the factors that go into the doug score based off of \n",
    "[Doug's Score Sheet](http://www.dougdemuro.com/dougscore) and our static copy [here]() used for this submission. These features listed provides the basis for his daily, weekend, and final dougscore.\n",
    "Once we've had a look at the reviews and some of the light insight involved, we'll answer a few questions about the data that speak to the relationships between different features used in the review. Finally we'll use some machine learning techniques, to see if we can gain more insight into what Doug values in a car including sets of features that might see what makes a car a top dougscore car.\n",
    "\n",
    "\n",
    "### Scores at a glance\n",
    "### What's the score\n",
    "`Total Weekend Score` + `Total Daily Score`= `Dougscore`\n",
    "\n",
    "### Weekend Score\n",
    "The weekend score consists of 5 features, that range from a score of 1-10\n",
    "\n",
    "- Styling\n",
    "- Acceleration\n",
    "- Handling\n",
    "- Fun Factor\n",
    "- Cool Factor\n",
    "\n",
    "### Daily Score\n",
    "The daily score consists of 5 features, that range from a score of 1-10\n",
    " - Features\n",
    " - Comfort\n",
    " - Quality\n",
    " - Practical\n",
    " - Value\n",
    "\n",
    "### What other things do we know about the reviews ?\n",
    "This are not quantitative factors, but we have some additional information about hte reviews , we know the following\n",
    "- Car Brand\n",
    "- Model Year\n",
    "- Country Filmed in\n",
    "- Duration of the review\n",
    "- City Filmed in\n",
    "- Region Filmed in ex. State\n",
    "\n",
    "### How's the doug score calculated\n",
    "We add up all the features from both categories and get the doug score\n",
    "Doug provides two categories of score, a weekend score and a daily score. The combined scores lead to a dougscore\n",
    "\n",
    "`total weekend score = styling + acceleration + handling + fun factor + cool factor`\n",
    "\n",
    "`total daily score = features + comfort + quality + practical + value`\n",
    "\n",
    "`doug score = total daily score + total weekend score`\n",
    "\n",
    "### What do we really want to know \n",
    "What influences the doug score and how!\n",
    "\n",
    "## Data Overview \n",
    "Here in this section we will walk over what type of review data we have and some of the stats about the data that influence how we've gone about evaluating the doug score\n",
    "\n",
    "The data at a glance \n",
    "\n",
    "### Brands\n",
    "\n",
    "#### Brand distribution\n",
    "The brands are not 100% evenly distributed but you can tell no one car manufacturer is massively over represented\n",
    "\n",
    "### Locations\n",
    "\n",
    "\n",
    "### Car Model Year\n",
    "\n",
    "\n",
    "### Daily Score Attributes\n",
    "\n",
    "### Weekend Score Attributes\n",
    "\n",
    "\n",
    "\n"
   ]
  },
  {
   "cell_type": "code",
   "execution_count": 3,
   "metadata": {},
   "outputs": [],
   "source": [
    "import numpy as np\n",
    "import pandas as pd\n",
    "import seaborn as sns\n",
    "import os\n",
    "import matplotlib.pyplot as plt\n",
    "from IPython.display import display, Markdown\n"
   ]
  },
  {
   "cell_type": "markdown",
   "metadata": {},
   "source": []
  },
  {
   "cell_type": "code",
   "execution_count": 6,
   "metadata": {},
   "outputs": [
    {
     "data": {
      "application/vnd.plotly.v1+json": {
       "config": {
        "plotlyServerURL": "https://plot.ly"
       },
       "data": [
        {
         "histnorm": "percent",
         "marker": {
          "color": "skyblue",
          "line": {
           "color": "black",
           "width": 1
          }
         },
         "name": "Brand Distribution %",
         "type": "histogram",
         "x": [
          "McLaren",
          "McLaren",
          "Lucid",
          "GMC",
          "Rivian",
          "Tesla",
          "Bugatti",
          "Bugatti",
          "Bugatti",
          "Ferrari",
          "Mercedes",
          "Rimac",
          "Koenigsegg",
          "McLaren",
          "Ferrari",
          "Audi",
          "Porsche",
          "Ferrari",
          "Ferrari",
          "Koenigsegg",
          "Mercedes-Benz",
          "Mercedes-Benz",
          "Porsche",
          "Tesla",
          "Porsche",
          "Porsche",
          "Audi",
          "Ferrari",
          "Ferrari",
          "Ferrari",
          "Lamborghini",
          "McLaren",
          "McLaren",
          "Lamborghini",
          "Ferrari",
          "Porsche",
          "Lamborghini",
          "Porsche",
          "McLaren",
          "Porsche",
          "Ferrari",
          "Ferrari",
          "McLaren",
          "Aston Martin",
          "Audi",
          "Lamborghini",
          "Porsche",
          "Ford",
          "McLaren",
          "Ferrari",
          "Lamborghini",
          "Lamborghini",
          "Maserati",
          "BMW",
          "Audi",
          "Porsche",
          "Pagani",
          "Pagani",
          "Pagani",
          "Koenigsegg",
          "Porsche",
          "Aston Martin",
          "Bentley",
          "Ferrari",
          "McLaren",
          "BMW",
          "Audi",
          "Acura",
          "Ford",
          "Cadillac",
          "Porsche",
          "BMW",
          "Porsche",
          "BMW",
          "Dodge",
          "Bugatti",
          "Audi",
          "BMW",
          "Bentley",
          "McLaren",
          "Tesla",
          "Rolls-Royce",
          "Audi",
          "Rolls-Royce",
          "Ford",
          "Porsche",
          "Rolls-Royce",
          "Audi",
          "Bentley",
          "Porsche",
          "Porsche",
          "Mecedes-AMG",
          "Mercedes-Benz",
          "Dodge",
          "McLaren",
          "Porsche",
          "Mercedes - Benz",
          "Ferrari",
          "Porsche",
          "Tesla",
          "McLaren",
          "Porsche",
          "Bugatti",
          "Aston Martin",
          "Audi",
          "Aston Martin",
          "Ferrari",
          "Mercedes-Benz",
          "Ford",
          "Lamborghini",
          "Porsche",
          "Bentley",
          "Porsche",
          "Mercedes-Maybach",
          "Mercedes - Benz",
          "Ferrari",
          "Polestar",
          "Aston Martin",
          "Lexus",
          "Porsche",
          "Range Rover",
          "BMW",
          "BMW",
          "McLaren",
          "Cadillac",
          "Jaguar",
          "BMW",
          "Rolls-Royce",
          "Alfa Romeo",
          "Alfa Romeo",
          "Acura",
          "Aston Martin",
          "Audi",
          "Jeep",
          "Lexus",
          "Audi",
          "Ford",
          "Audi",
          "Audi",
          "Hyundai",
          "BMW",
          "BMW",
          "Cadillac",
          "Ford",
          "BMW",
          "Mercedes - Maybach",
          "Mercedes - Benz",
          "McLaren",
          "Ford",
          "Aston Martin",
          "Mercedes-Maybach",
          "Jaguar",
          "Maserati",
          "BMW",
          "Nissan",
          "Porsche",
          "Mercedes-Benz",
          "Mercedes-Benz",
          "Porsche",
          "Mercedes-Benz",
          "Chevrolet",
          "Ford",
          "Aston Martin",
          "Dodge",
          "Mercedes-Benz",
          "Rolls-Royce",
          "Mercedes-Benz",
          "Ford",
          "Mercedes - Benz",
          "McLaren",
          "Tesla",
          "Chevrolet",
          "Dodge",
          "Ford",
          "BMW",
          "Ferrari",
          "BMW",
          "Aston Martin",
          "Porsche",
          "BMW",
          "Bentley",
          "Lexus",
          "Ferrari",
          "Bentley",
          "Audi",
          "Lexus",
          "Mercedes-Benz",
          "BMW",
          "Land Rover",
          "Mercedes-Benz",
          "Chevrolet",
          "Kia",
          "Mercedes - Benz",
          "Volvo",
          "Jaguar",
          "Porsche",
          "Lamborghini",
          "Range Rover",
          "Mercedes-Benz",
          "Volkswagen",
          "Aston Martin",
          "Alfa Romeo",
          "Lamborghini",
          "Ford",
          "Ferrari",
          "Mercedes-Benz",
          "Chevrolet",
          "Nissan",
          "Toyota",
          "Rolls-Royce",
          "Jeep",
          "Polestar",
          "BAC",
          "Lotus",
          "Lincoln",
          "BMW",
          "Rolls-Royce",
          "Audi",
          "Porsche",
          "BMW",
          "Audi",
          "Lexus",
          "Mercedes-Benz",
          "Nissan",
          "Chevrolet",
          "Kia",
          "BMW",
          "Volkswagen",
          "Jeep",
          "Ferrari",
          "BMW",
          "Genesis",
          "BMW",
          "Audi",
          "Land Rover",
          "Porsche",
          "Ferrari",
          "Lotus",
          "Mercedes-Benz",
          "Ford",
          "Bentley",
          "Ford",
          "Lamborghini",
          "BMW",
          "BMW",
          "Chevrolet",
          "Toyota",
          "BMW",
          "Lexus",
          "Genesis",
          "Genesis",
          "Ferrari",
          "Porsche",
          "Aston Martin",
          "McLaren",
          "Porsche",
          "Lexus",
          "Genesis",
          "Mercedes-Benz",
          "Cadillac",
          "BMW",
          "Porsche",
          "Ferrari",
          "Chevrolet",
          "Toyota",
          "Cadillac",
          "Lincoln",
          "Acura",
          "BMW",
          "Audi",
          "Audi",
          "Audi",
          "Mercedes-Benz",
          "Tesla",
          "Honda",
          "Mercedes-Benz",
          "BMW",
          "Genesis",
          "Ford",
          "Jeep",
          "Bugatti",
          "Genesis",
          "Lincoln",
          "Audi",
          "Mercedes",
          "Volvo",
          "Maserati",
          "Bentley",
          "BMW",
          "Kia",
          "Mercedes-Benz",
          "Lincoln",
          "Porsche",
          "Lancia",
          "Hyundai",
          "Lexus",
          "Volkswagen",
          "Mercedes-Benz",
          "Toyota",
          "Subaru",
          "Audi",
          "Jeep",
          "Mercedes-Benz",
          "Subaru",
          "Vector",
          "BMW",
          "Audi",
          "Ariel",
          "Jaguar",
          "Chevrolet",
          "Toyota",
          "Toyota",
          "Volvo",
          "Mercedes-Benz",
          "Spyker",
          "Maserati",
          "Alfa Romeo",
          "Porsche",
          "Hyundai",
          "Toyota",
          "Toyota",
          "Subaru",
          "Ford",
          "Jeep",
          "Jeep",
          "Jaguar",
          "Tesla",
          "Audi",
          "Ford",
          "Maybach",
          "Honda",
          "Aston Martin",
          "Cadillac",
          "Mini",
          "Land Rover",
          "Lamborghini",
          "Volkswagen",
          "BMW",
          "Acura",
          "Ferrari",
          "Jeep",
          "Jaguar",
          "Honda",
          "Honda",
          "Ford",
          "Lexus",
          "Mitsubishi",
          "Maserati",
          "Infiniti",
          "Nissan",
          "Lexus",
          "Mercedes-Benz",
          "Mazda",
          "Fiat",
          "Ferrari",
          "Volvo",
          "BMW",
          "Subaru",
          "Ford",
          "Lexus",
          "Mercedes-Benz",
          "Mercedes-Benz",
          "Subaru",
          "Bentley",
          "Lincoln",
          "Jaguar",
          "Subaru",
          "BMW",
          "Mercedes-Benz",
          "Hyundai",
          "Land Rover",
          "Porsche",
          "Porsche",
          "Mitsubishi",
          "Mercedes-Benz",
          "Volkswagen",
          "BMW",
          "Nissan",
          "Mazda",
          "Toyota",
          "Mercedes-Benz",
          "Mercedes-Benz",
          "BMW",
          "Toyota",
          "Ferrari",
          "Lamborghini",
          "Bentley",
          "Ford",
          "Mercedes - Benz",
          "Mercedes-Benz",
          "Maybach",
          "Lexus",
          "BMW",
          "Subaru",
          "Mazda",
          "Dodge",
          "Pontiac",
          "BMW",
          "Mercedes-Benz",
          "Mini",
          "Mercedes-Benz",
          "Mazda",
          "Dodge",
          "Fiat",
          "Kia",
          "Mazda",
          "Kia",
          "Chevrolet",
          "BMW",
          "Toyota",
          "Polaris",
          "Mercedes-Benz",
          "Audi",
          "Mercedes-Benz",
          "Toyota",
          "Maserati",
          "Mazda",
          "TVR",
          "Volvo",
          "Kia",
          "Toyota",
          "Volkswagen",
          "Porsche",
          "Chrysler",
          "Toyota",
          "GMC",
          "Cadillac",
          "Dodge",
          "GMC",
          "Kia",
          "Toyota",
          "USSV",
          "Suzuki",
          "Toyota",
          "GMC",
          "Ford",
          "Toyota",
          "Hyundai",
          "Honda",
          "Lexus",
          "Dodge",
          "Audi",
          "Toyota",
          "Hummer",
          "Peugeot",
          "Dodge",
          "Aston Martin",
          "Ferrari",
          "Lamborghini",
          "Honda",
          "Hyundai",
          "Subaru",
          "Nissan",
          "Fiat",
          "LaForza",
          "Porsche",
          "Fisker",
          "Jeep",
          "Bentley",
          "Subaru",
          "Buick",
          "Mazda",
          "Ferrari",
          "Maserati",
          "Ford",
          "Citröen",
          "Subaru",
          "Ford",
          "Toyota",
          "Chevrolet",
          "Toyota",
          "Kia",
          "Kia",
          "Toyota",
          "Chevrolet",
          "GMC",
          "Bentley",
          "Mercedes-Benz",
          "Toyota",
          "Acura",
          "Mitsubishi",
          "Land Rover",
          "Rolls-Royce",
          "Mercury",
          "Suzuki",
          "Ford",
          "Hyundai",
          "Mosler",
          "Volkswagen",
          "Mazda",
          "Citröen",
          "Chevrolet",
          "Mercedes - Benz",
          "Honda",
          "Mercedes-Benz",
          "Mercedes-Benz",
          "Mercedes-Benz",
          "Subaru",
          "Dodge",
          "Honda",
          "BMW",
          "BMW",
          "Jeep",
          "Ford",
          "Hyundai",
          "GMC",
          "Kia",
          "Nissan",
          "Chevrolet",
          "Lamborghini",
          "Autozam",
          "Alfa Romeo",
          "Suzuki",
          "Toyota",
          "Chevrolet",
          "Lamborghini",
          "Honda",
          "Audi",
          "Honda",
          "Toyota",
          "Volkswagen",
          "Chevrolet",
          "Mini",
          "Subaru",
          "Chevrolet",
          "Chevrolet",
          "Cadillac",
          "Jeep",
          "Ford",
          "BMW",
          "Cadillac",
          "Honda",
          "Hyundai",
          "Cadillac",
          "Toyota",
          "Acura",
          "Plymouth",
          "Lexus",
          "Maserati",
          "Nissan",
          "Ford",
          "Ford",
          "Lincoln",
          "Lincoln",
          "Pontiac",
          "Hyundai",
          "Mitsubishi",
          "Chevrolet",
          "Buick",
          "Chevrolet",
          "Saab",
          "Jaguar",
          "Nissan",
          "Honda",
          "Dodge",
          "Lincoln",
          "Chrysler",
          "Oldsmobile",
          "Land Rover",
          "Pontiac",
          "Subaru",
          "Smart",
          "Ford",
          "Oldsmobile",
          "Toyota",
          "Rolls-Royce",
          "Lamborghini",
          "Cadillac",
          "Pontiac",
          "Mitsubishi",
          "Ford",
          "Isuzu",
          "Ford",
          "Dodge",
          "Volga",
          "Los Res",
          "Geo",
          "Hummer",
          "Ferret",
          "Mitsubishi",
          "Nissan",
          "Mercedes-Benz",
          "Yugo",
          "Trabant",
          "BMW"
         ]
        }
       ],
       "layout": {
        "template": {
         "data": {
          "bar": [
           {
            "error_x": {
             "color": "#2a3f5f"
            },
            "error_y": {
             "color": "#2a3f5f"
            },
            "marker": {
             "line": {
              "color": "#E5ECF6",
              "width": 0.5
             },
             "pattern": {
              "fillmode": "overlay",
              "size": 10,
              "solidity": 0.2
             }
            },
            "type": "bar"
           }
          ],
          "barpolar": [
           {
            "marker": {
             "line": {
              "color": "#E5ECF6",
              "width": 0.5
             },
             "pattern": {
              "fillmode": "overlay",
              "size": 10,
              "solidity": 0.2
             }
            },
            "type": "barpolar"
           }
          ],
          "carpet": [
           {
            "aaxis": {
             "endlinecolor": "#2a3f5f",
             "gridcolor": "white",
             "linecolor": "white",
             "minorgridcolor": "white",
             "startlinecolor": "#2a3f5f"
            },
            "baxis": {
             "endlinecolor": "#2a3f5f",
             "gridcolor": "white",
             "linecolor": "white",
             "minorgridcolor": "white",
             "startlinecolor": "#2a3f5f"
            },
            "type": "carpet"
           }
          ],
          "choropleth": [
           {
            "colorbar": {
             "outlinewidth": 0,
             "ticks": ""
            },
            "type": "choropleth"
           }
          ],
          "contour": [
           {
            "colorbar": {
             "outlinewidth": 0,
             "ticks": ""
            },
            "colorscale": [
             [
              0,
              "#0d0887"
             ],
             [
              0.1111111111111111,
              "#46039f"
             ],
             [
              0.2222222222222222,
              "#7201a8"
             ],
             [
              0.3333333333333333,
              "#9c179e"
             ],
             [
              0.4444444444444444,
              "#bd3786"
             ],
             [
              0.5555555555555556,
              "#d8576b"
             ],
             [
              0.6666666666666666,
              "#ed7953"
             ],
             [
              0.7777777777777778,
              "#fb9f3a"
             ],
             [
              0.8888888888888888,
              "#fdca26"
             ],
             [
              1,
              "#f0f921"
             ]
            ],
            "type": "contour"
           }
          ],
          "contourcarpet": [
           {
            "colorbar": {
             "outlinewidth": 0,
             "ticks": ""
            },
            "type": "contourcarpet"
           }
          ],
          "heatmap": [
           {
            "colorbar": {
             "outlinewidth": 0,
             "ticks": ""
            },
            "colorscale": [
             [
              0,
              "#0d0887"
             ],
             [
              0.1111111111111111,
              "#46039f"
             ],
             [
              0.2222222222222222,
              "#7201a8"
             ],
             [
              0.3333333333333333,
              "#9c179e"
             ],
             [
              0.4444444444444444,
              "#bd3786"
             ],
             [
              0.5555555555555556,
              "#d8576b"
             ],
             [
              0.6666666666666666,
              "#ed7953"
             ],
             [
              0.7777777777777778,
              "#fb9f3a"
             ],
             [
              0.8888888888888888,
              "#fdca26"
             ],
             [
              1,
              "#f0f921"
             ]
            ],
            "type": "heatmap"
           }
          ],
          "heatmapgl": [
           {
            "colorbar": {
             "outlinewidth": 0,
             "ticks": ""
            },
            "colorscale": [
             [
              0,
              "#0d0887"
             ],
             [
              0.1111111111111111,
              "#46039f"
             ],
             [
              0.2222222222222222,
              "#7201a8"
             ],
             [
              0.3333333333333333,
              "#9c179e"
             ],
             [
              0.4444444444444444,
              "#bd3786"
             ],
             [
              0.5555555555555556,
              "#d8576b"
             ],
             [
              0.6666666666666666,
              "#ed7953"
             ],
             [
              0.7777777777777778,
              "#fb9f3a"
             ],
             [
              0.8888888888888888,
              "#fdca26"
             ],
             [
              1,
              "#f0f921"
             ]
            ],
            "type": "heatmapgl"
           }
          ],
          "histogram": [
           {
            "marker": {
             "pattern": {
              "fillmode": "overlay",
              "size": 10,
              "solidity": 0.2
             }
            },
            "type": "histogram"
           }
          ],
          "histogram2d": [
           {
            "colorbar": {
             "outlinewidth": 0,
             "ticks": ""
            },
            "colorscale": [
             [
              0,
              "#0d0887"
             ],
             [
              0.1111111111111111,
              "#46039f"
             ],
             [
              0.2222222222222222,
              "#7201a8"
             ],
             [
              0.3333333333333333,
              "#9c179e"
             ],
             [
              0.4444444444444444,
              "#bd3786"
             ],
             [
              0.5555555555555556,
              "#d8576b"
             ],
             [
              0.6666666666666666,
              "#ed7953"
             ],
             [
              0.7777777777777778,
              "#fb9f3a"
             ],
             [
              0.8888888888888888,
              "#fdca26"
             ],
             [
              1,
              "#f0f921"
             ]
            ],
            "type": "histogram2d"
           }
          ],
          "histogram2dcontour": [
           {
            "colorbar": {
             "outlinewidth": 0,
             "ticks": ""
            },
            "colorscale": [
             [
              0,
              "#0d0887"
             ],
             [
              0.1111111111111111,
              "#46039f"
             ],
             [
              0.2222222222222222,
              "#7201a8"
             ],
             [
              0.3333333333333333,
              "#9c179e"
             ],
             [
              0.4444444444444444,
              "#bd3786"
             ],
             [
              0.5555555555555556,
              "#d8576b"
             ],
             [
              0.6666666666666666,
              "#ed7953"
             ],
             [
              0.7777777777777778,
              "#fb9f3a"
             ],
             [
              0.8888888888888888,
              "#fdca26"
             ],
             [
              1,
              "#f0f921"
             ]
            ],
            "type": "histogram2dcontour"
           }
          ],
          "mesh3d": [
           {
            "colorbar": {
             "outlinewidth": 0,
             "ticks": ""
            },
            "type": "mesh3d"
           }
          ],
          "parcoords": [
           {
            "line": {
             "colorbar": {
              "outlinewidth": 0,
              "ticks": ""
             }
            },
            "type": "parcoords"
           }
          ],
          "pie": [
           {
            "automargin": true,
            "type": "pie"
           }
          ],
          "scatter": [
           {
            "fillpattern": {
             "fillmode": "overlay",
             "size": 10,
             "solidity": 0.2
            },
            "type": "scatter"
           }
          ],
          "scatter3d": [
           {
            "line": {
             "colorbar": {
              "outlinewidth": 0,
              "ticks": ""
             }
            },
            "marker": {
             "colorbar": {
              "outlinewidth": 0,
              "ticks": ""
             }
            },
            "type": "scatter3d"
           }
          ],
          "scattercarpet": [
           {
            "marker": {
             "colorbar": {
              "outlinewidth": 0,
              "ticks": ""
             }
            },
            "type": "scattercarpet"
           }
          ],
          "scattergeo": [
           {
            "marker": {
             "colorbar": {
              "outlinewidth": 0,
              "ticks": ""
             }
            },
            "type": "scattergeo"
           }
          ],
          "scattergl": [
           {
            "marker": {
             "colorbar": {
              "outlinewidth": 0,
              "ticks": ""
             }
            },
            "type": "scattergl"
           }
          ],
          "scattermapbox": [
           {
            "marker": {
             "colorbar": {
              "outlinewidth": 0,
              "ticks": ""
             }
            },
            "type": "scattermapbox"
           }
          ],
          "scatterpolar": [
           {
            "marker": {
             "colorbar": {
              "outlinewidth": 0,
              "ticks": ""
             }
            },
            "type": "scatterpolar"
           }
          ],
          "scatterpolargl": [
           {
            "marker": {
             "colorbar": {
              "outlinewidth": 0,
              "ticks": ""
             }
            },
            "type": "scatterpolargl"
           }
          ],
          "scatterternary": [
           {
            "marker": {
             "colorbar": {
              "outlinewidth": 0,
              "ticks": ""
             }
            },
            "type": "scatterternary"
           }
          ],
          "surface": [
           {
            "colorbar": {
             "outlinewidth": 0,
             "ticks": ""
            },
            "colorscale": [
             [
              0,
              "#0d0887"
             ],
             [
              0.1111111111111111,
              "#46039f"
             ],
             [
              0.2222222222222222,
              "#7201a8"
             ],
             [
              0.3333333333333333,
              "#9c179e"
             ],
             [
              0.4444444444444444,
              "#bd3786"
             ],
             [
              0.5555555555555556,
              "#d8576b"
             ],
             [
              0.6666666666666666,
              "#ed7953"
             ],
             [
              0.7777777777777778,
              "#fb9f3a"
             ],
             [
              0.8888888888888888,
              "#fdca26"
             ],
             [
              1,
              "#f0f921"
             ]
            ],
            "type": "surface"
           }
          ],
          "table": [
           {
            "cells": {
             "fill": {
              "color": "#EBF0F8"
             },
             "line": {
              "color": "white"
             }
            },
            "header": {
             "fill": {
              "color": "#C8D4E3"
             },
             "line": {
              "color": "white"
             }
            },
            "type": "table"
           }
          ]
         },
         "layout": {
          "annotationdefaults": {
           "arrowcolor": "#2a3f5f",
           "arrowhead": 0,
           "arrowwidth": 1
          },
          "autotypenumbers": "strict",
          "coloraxis": {
           "colorbar": {
            "outlinewidth": 0,
            "ticks": ""
           }
          },
          "colorscale": {
           "diverging": [
            [
             0,
             "#8e0152"
            ],
            [
             0.1,
             "#c51b7d"
            ],
            [
             0.2,
             "#de77ae"
            ],
            [
             0.3,
             "#f1b6da"
            ],
            [
             0.4,
             "#fde0ef"
            ],
            [
             0.5,
             "#f7f7f7"
            ],
            [
             0.6,
             "#e6f5d0"
            ],
            [
             0.7,
             "#b8e186"
            ],
            [
             0.8,
             "#7fbc41"
            ],
            [
             0.9,
             "#4d9221"
            ],
            [
             1,
             "#276419"
            ]
           ],
           "sequential": [
            [
             0,
             "#0d0887"
            ],
            [
             0.1111111111111111,
             "#46039f"
            ],
            [
             0.2222222222222222,
             "#7201a8"
            ],
            [
             0.3333333333333333,
             "#9c179e"
            ],
            [
             0.4444444444444444,
             "#bd3786"
            ],
            [
             0.5555555555555556,
             "#d8576b"
            ],
            [
             0.6666666666666666,
             "#ed7953"
            ],
            [
             0.7777777777777778,
             "#fb9f3a"
            ],
            [
             0.8888888888888888,
             "#fdca26"
            ],
            [
             1,
             "#f0f921"
            ]
           ],
           "sequentialminus": [
            [
             0,
             "#0d0887"
            ],
            [
             0.1111111111111111,
             "#46039f"
            ],
            [
             0.2222222222222222,
             "#7201a8"
            ],
            [
             0.3333333333333333,
             "#9c179e"
            ],
            [
             0.4444444444444444,
             "#bd3786"
            ],
            [
             0.5555555555555556,
             "#d8576b"
            ],
            [
             0.6666666666666666,
             "#ed7953"
            ],
            [
             0.7777777777777778,
             "#fb9f3a"
            ],
            [
             0.8888888888888888,
             "#fdca26"
            ],
            [
             1,
             "#f0f921"
            ]
           ]
          },
          "colorway": [
           "#636efa",
           "#EF553B",
           "#00cc96",
           "#ab63fa",
           "#FFA15A",
           "#19d3f3",
           "#FF6692",
           "#B6E880",
           "#FF97FF",
           "#FECB52"
          ],
          "font": {
           "color": "#2a3f5f"
          },
          "geo": {
           "bgcolor": "white",
           "lakecolor": "white",
           "landcolor": "#E5ECF6",
           "showlakes": true,
           "showland": true,
           "subunitcolor": "white"
          },
          "hoverlabel": {
           "align": "left"
          },
          "hovermode": "closest",
          "mapbox": {
           "style": "light"
          },
          "paper_bgcolor": "white",
          "plot_bgcolor": "#E5ECF6",
          "polar": {
           "angularaxis": {
            "gridcolor": "white",
            "linecolor": "white",
            "ticks": ""
           },
           "bgcolor": "#E5ECF6",
           "radialaxis": {
            "gridcolor": "white",
            "linecolor": "white",
            "ticks": ""
           }
          },
          "scene": {
           "xaxis": {
            "backgroundcolor": "#E5ECF6",
            "gridcolor": "white",
            "gridwidth": 2,
            "linecolor": "white",
            "showbackground": true,
            "ticks": "",
            "zerolinecolor": "white"
           },
           "yaxis": {
            "backgroundcolor": "#E5ECF6",
            "gridcolor": "white",
            "gridwidth": 2,
            "linecolor": "white",
            "showbackground": true,
            "ticks": "",
            "zerolinecolor": "white"
           },
           "zaxis": {
            "backgroundcolor": "#E5ECF6",
            "gridcolor": "white",
            "gridwidth": 2,
            "linecolor": "white",
            "showbackground": true,
            "ticks": "",
            "zerolinecolor": "white"
           }
          },
          "shapedefaults": {
           "line": {
            "color": "#2a3f5f"
           }
          },
          "ternary": {
           "aaxis": {
            "gridcolor": "white",
            "linecolor": "white",
            "ticks": ""
           },
           "baxis": {
            "gridcolor": "white",
            "linecolor": "white",
            "ticks": ""
           },
           "bgcolor": "#E5ECF6",
           "caxis": {
            "gridcolor": "white",
            "linecolor": "white",
            "ticks": ""
           }
          },
          "title": {
           "x": 0.05
          },
          "xaxis": {
           "automargin": true,
           "gridcolor": "white",
           "linecolor": "white",
           "ticks": "",
           "title": {
            "standoff": 15
           },
           "zerolinecolor": "white",
           "zerolinewidth": 2
          },
          "yaxis": {
           "automargin": true,
           "gridcolor": "white",
           "linecolor": "white",
           "ticks": "",
           "title": {
            "standoff": 15
           },
           "zerolinecolor": "white",
           "zerolinewidth": 2
          }
         }
        },
        "title": {
         "text": "Brand Distribution %"
        }
       }
      }
     },
     "metadata": {},
     "output_type": "display_data"
    },
    {
     "data": {
      "application/vnd.plotly.v1+json": {
       "config": {
        "plotlyServerURL": "https://plot.ly"
       },
       "data": [
        {
         "marker": {
          "color": [
           "#FD3216",
           "#00FE35",
           "#6A76FC",
           "#FED4C4",
           "#FE00CE",
           "#0DF9FF",
           "#F6F926",
           "#FF9616",
           "#479B55",
           "#EEA6FB",
           "#DC587D",
           "#D626FF",
           "#6E899C",
           "#00B5F7",
           "#B68E00",
           "#C9FBE5",
           "#FF0092",
           "#22FFA7",
           "#E3EE9E",
           "#86CE00",
           "#BC7196",
           "#7E7DCD",
           "#FC6955",
           "#E48F72"
          ]
         },
         "name": "Brand Distribution %",
         "type": "bar",
         "x": [
          "BMW",
          "Mercedes-Benz",
          "Porsche",
          "Ford",
          "Audi",
          "Ferrari",
          "Toyota",
          "Chevrolet",
          "Lamborghini",
          "McLaren",
          "Lexus",
          "Aston Martin",
          "Subaru",
          "Bentley",
          "Dodge",
          "Honda",
          "Cadillac",
          "Jeep",
          "Hyundai",
          "Kia"
         ],
         "y": [
          7.0085470085470085,
          6.666666666666667,
          6.153846153846154,
          5.128205128205129,
          4.615384615384615,
          4.615384615384615,
          4.444444444444445,
          3.247863247863248,
          2.735042735042735,
          2.735042735042735,
          2.393162393162393,
          2.2222222222222223,
          2.2222222222222223,
          2.051282051282051,
          2.051282051282051,
          2.051282051282051,
          1.8803418803418803,
          1.8803418803418803,
          1.7094017094017093,
          1.7094017094017093
         ]
        }
       ],
       "layout": {
        "template": {
         "data": {
          "bar": [
           {
            "error_x": {
             "color": "#2a3f5f"
            },
            "error_y": {
             "color": "#2a3f5f"
            },
            "marker": {
             "line": {
              "color": "#E5ECF6",
              "width": 0.5
             },
             "pattern": {
              "fillmode": "overlay",
              "size": 10,
              "solidity": 0.2
             }
            },
            "type": "bar"
           }
          ],
          "barpolar": [
           {
            "marker": {
             "line": {
              "color": "#E5ECF6",
              "width": 0.5
             },
             "pattern": {
              "fillmode": "overlay",
              "size": 10,
              "solidity": 0.2
             }
            },
            "type": "barpolar"
           }
          ],
          "carpet": [
           {
            "aaxis": {
             "endlinecolor": "#2a3f5f",
             "gridcolor": "white",
             "linecolor": "white",
             "minorgridcolor": "white",
             "startlinecolor": "#2a3f5f"
            },
            "baxis": {
             "endlinecolor": "#2a3f5f",
             "gridcolor": "white",
             "linecolor": "white",
             "minorgridcolor": "white",
             "startlinecolor": "#2a3f5f"
            },
            "type": "carpet"
           }
          ],
          "choropleth": [
           {
            "colorbar": {
             "outlinewidth": 0,
             "ticks": ""
            },
            "type": "choropleth"
           }
          ],
          "contour": [
           {
            "colorbar": {
             "outlinewidth": 0,
             "ticks": ""
            },
            "colorscale": [
             [
              0,
              "#0d0887"
             ],
             [
              0.1111111111111111,
              "#46039f"
             ],
             [
              0.2222222222222222,
              "#7201a8"
             ],
             [
              0.3333333333333333,
              "#9c179e"
             ],
             [
              0.4444444444444444,
              "#bd3786"
             ],
             [
              0.5555555555555556,
              "#d8576b"
             ],
             [
              0.6666666666666666,
              "#ed7953"
             ],
             [
              0.7777777777777778,
              "#fb9f3a"
             ],
             [
              0.8888888888888888,
              "#fdca26"
             ],
             [
              1,
              "#f0f921"
             ]
            ],
            "type": "contour"
           }
          ],
          "contourcarpet": [
           {
            "colorbar": {
             "outlinewidth": 0,
             "ticks": ""
            },
            "type": "contourcarpet"
           }
          ],
          "heatmap": [
           {
            "colorbar": {
             "outlinewidth": 0,
             "ticks": ""
            },
            "colorscale": [
             [
              0,
              "#0d0887"
             ],
             [
              0.1111111111111111,
              "#46039f"
             ],
             [
              0.2222222222222222,
              "#7201a8"
             ],
             [
              0.3333333333333333,
              "#9c179e"
             ],
             [
              0.4444444444444444,
              "#bd3786"
             ],
             [
              0.5555555555555556,
              "#d8576b"
             ],
             [
              0.6666666666666666,
              "#ed7953"
             ],
             [
              0.7777777777777778,
              "#fb9f3a"
             ],
             [
              0.8888888888888888,
              "#fdca26"
             ],
             [
              1,
              "#f0f921"
             ]
            ],
            "type": "heatmap"
           }
          ],
          "heatmapgl": [
           {
            "colorbar": {
             "outlinewidth": 0,
             "ticks": ""
            },
            "colorscale": [
             [
              0,
              "#0d0887"
             ],
             [
              0.1111111111111111,
              "#46039f"
             ],
             [
              0.2222222222222222,
              "#7201a8"
             ],
             [
              0.3333333333333333,
              "#9c179e"
             ],
             [
              0.4444444444444444,
              "#bd3786"
             ],
             [
              0.5555555555555556,
              "#d8576b"
             ],
             [
              0.6666666666666666,
              "#ed7953"
             ],
             [
              0.7777777777777778,
              "#fb9f3a"
             ],
             [
              0.8888888888888888,
              "#fdca26"
             ],
             [
              1,
              "#f0f921"
             ]
            ],
            "type": "heatmapgl"
           }
          ],
          "histogram": [
           {
            "marker": {
             "pattern": {
              "fillmode": "overlay",
              "size": 10,
              "solidity": 0.2
             }
            },
            "type": "histogram"
           }
          ],
          "histogram2d": [
           {
            "colorbar": {
             "outlinewidth": 0,
             "ticks": ""
            },
            "colorscale": [
             [
              0,
              "#0d0887"
             ],
             [
              0.1111111111111111,
              "#46039f"
             ],
             [
              0.2222222222222222,
              "#7201a8"
             ],
             [
              0.3333333333333333,
              "#9c179e"
             ],
             [
              0.4444444444444444,
              "#bd3786"
             ],
             [
              0.5555555555555556,
              "#d8576b"
             ],
             [
              0.6666666666666666,
              "#ed7953"
             ],
             [
              0.7777777777777778,
              "#fb9f3a"
             ],
             [
              0.8888888888888888,
              "#fdca26"
             ],
             [
              1,
              "#f0f921"
             ]
            ],
            "type": "histogram2d"
           }
          ],
          "histogram2dcontour": [
           {
            "colorbar": {
             "outlinewidth": 0,
             "ticks": ""
            },
            "colorscale": [
             [
              0,
              "#0d0887"
             ],
             [
              0.1111111111111111,
              "#46039f"
             ],
             [
              0.2222222222222222,
              "#7201a8"
             ],
             [
              0.3333333333333333,
              "#9c179e"
             ],
             [
              0.4444444444444444,
              "#bd3786"
             ],
             [
              0.5555555555555556,
              "#d8576b"
             ],
             [
              0.6666666666666666,
              "#ed7953"
             ],
             [
              0.7777777777777778,
              "#fb9f3a"
             ],
             [
              0.8888888888888888,
              "#fdca26"
             ],
             [
              1,
              "#f0f921"
             ]
            ],
            "type": "histogram2dcontour"
           }
          ],
          "mesh3d": [
           {
            "colorbar": {
             "outlinewidth": 0,
             "ticks": ""
            },
            "type": "mesh3d"
           }
          ],
          "parcoords": [
           {
            "line": {
             "colorbar": {
              "outlinewidth": 0,
              "ticks": ""
             }
            },
            "type": "parcoords"
           }
          ],
          "pie": [
           {
            "automargin": true,
            "type": "pie"
           }
          ],
          "scatter": [
           {
            "fillpattern": {
             "fillmode": "overlay",
             "size": 10,
             "solidity": 0.2
            },
            "type": "scatter"
           }
          ],
          "scatter3d": [
           {
            "line": {
             "colorbar": {
              "outlinewidth": 0,
              "ticks": ""
             }
            },
            "marker": {
             "colorbar": {
              "outlinewidth": 0,
              "ticks": ""
             }
            },
            "type": "scatter3d"
           }
          ],
          "scattercarpet": [
           {
            "marker": {
             "colorbar": {
              "outlinewidth": 0,
              "ticks": ""
             }
            },
            "type": "scattercarpet"
           }
          ],
          "scattergeo": [
           {
            "marker": {
             "colorbar": {
              "outlinewidth": 0,
              "ticks": ""
             }
            },
            "type": "scattergeo"
           }
          ],
          "scattergl": [
           {
            "marker": {
             "colorbar": {
              "outlinewidth": 0,
              "ticks": ""
             }
            },
            "type": "scattergl"
           }
          ],
          "scattermapbox": [
           {
            "marker": {
             "colorbar": {
              "outlinewidth": 0,
              "ticks": ""
             }
            },
            "type": "scattermapbox"
           }
          ],
          "scatterpolar": [
           {
            "marker": {
             "colorbar": {
              "outlinewidth": 0,
              "ticks": ""
             }
            },
            "type": "scatterpolar"
           }
          ],
          "scatterpolargl": [
           {
            "marker": {
             "colorbar": {
              "outlinewidth": 0,
              "ticks": ""
             }
            },
            "type": "scatterpolargl"
           }
          ],
          "scatterternary": [
           {
            "marker": {
             "colorbar": {
              "outlinewidth": 0,
              "ticks": ""
             }
            },
            "type": "scatterternary"
           }
          ],
          "surface": [
           {
            "colorbar": {
             "outlinewidth": 0,
             "ticks": ""
            },
            "colorscale": [
             [
              0,
              "#0d0887"
             ],
             [
              0.1111111111111111,
              "#46039f"
             ],
             [
              0.2222222222222222,
              "#7201a8"
             ],
             [
              0.3333333333333333,
              "#9c179e"
             ],
             [
              0.4444444444444444,
              "#bd3786"
             ],
             [
              0.5555555555555556,
              "#d8576b"
             ],
             [
              0.6666666666666666,
              "#ed7953"
             ],
             [
              0.7777777777777778,
              "#fb9f3a"
             ],
             [
              0.8888888888888888,
              "#fdca26"
             ],
             [
              1,
              "#f0f921"
             ]
            ],
            "type": "surface"
           }
          ],
          "table": [
           {
            "cells": {
             "fill": {
              "color": "#EBF0F8"
             },
             "line": {
              "color": "white"
             }
            },
            "header": {
             "fill": {
              "color": "#C8D4E3"
             },
             "line": {
              "color": "white"
             }
            },
            "type": "table"
           }
          ]
         },
         "layout": {
          "annotationdefaults": {
           "arrowcolor": "#2a3f5f",
           "arrowhead": 0,
           "arrowwidth": 1
          },
          "autotypenumbers": "strict",
          "coloraxis": {
           "colorbar": {
            "outlinewidth": 0,
            "ticks": ""
           }
          },
          "colorscale": {
           "diverging": [
            [
             0,
             "#8e0152"
            ],
            [
             0.1,
             "#c51b7d"
            ],
            [
             0.2,
             "#de77ae"
            ],
            [
             0.3,
             "#f1b6da"
            ],
            [
             0.4,
             "#fde0ef"
            ],
            [
             0.5,
             "#f7f7f7"
            ],
            [
             0.6,
             "#e6f5d0"
            ],
            [
             0.7,
             "#b8e186"
            ],
            [
             0.8,
             "#7fbc41"
            ],
            [
             0.9,
             "#4d9221"
            ],
            [
             1,
             "#276419"
            ]
           ],
           "sequential": [
            [
             0,
             "#0d0887"
            ],
            [
             0.1111111111111111,
             "#46039f"
            ],
            [
             0.2222222222222222,
             "#7201a8"
            ],
            [
             0.3333333333333333,
             "#9c179e"
            ],
            [
             0.4444444444444444,
             "#bd3786"
            ],
            [
             0.5555555555555556,
             "#d8576b"
            ],
            [
             0.6666666666666666,
             "#ed7953"
            ],
            [
             0.7777777777777778,
             "#fb9f3a"
            ],
            [
             0.8888888888888888,
             "#fdca26"
            ],
            [
             1,
             "#f0f921"
            ]
           ],
           "sequentialminus": [
            [
             0,
             "#0d0887"
            ],
            [
             0.1111111111111111,
             "#46039f"
            ],
            [
             0.2222222222222222,
             "#7201a8"
            ],
            [
             0.3333333333333333,
             "#9c179e"
            ],
            [
             0.4444444444444444,
             "#bd3786"
            ],
            [
             0.5555555555555556,
             "#d8576b"
            ],
            [
             0.6666666666666666,
             "#ed7953"
            ],
            [
             0.7777777777777778,
             "#fb9f3a"
            ],
            [
             0.8888888888888888,
             "#fdca26"
            ],
            [
             1,
             "#f0f921"
            ]
           ]
          },
          "colorway": [
           "#636efa",
           "#EF553B",
           "#00cc96",
           "#ab63fa",
           "#FFA15A",
           "#19d3f3",
           "#FF6692",
           "#B6E880",
           "#FF97FF",
           "#FECB52"
          ],
          "font": {
           "color": "#2a3f5f"
          },
          "geo": {
           "bgcolor": "white",
           "lakecolor": "white",
           "landcolor": "#E5ECF6",
           "showlakes": true,
           "showland": true,
           "subunitcolor": "white"
          },
          "hoverlabel": {
           "align": "left"
          },
          "hovermode": "closest",
          "mapbox": {
           "style": "light"
          },
          "paper_bgcolor": "white",
          "plot_bgcolor": "#E5ECF6",
          "polar": {
           "angularaxis": {
            "gridcolor": "white",
            "linecolor": "white",
            "ticks": ""
           },
           "bgcolor": "#E5ECF6",
           "radialaxis": {
            "gridcolor": "white",
            "linecolor": "white",
            "ticks": ""
           }
          },
          "scene": {
           "xaxis": {
            "backgroundcolor": "#E5ECF6",
            "gridcolor": "white",
            "gridwidth": 2,
            "linecolor": "white",
            "showbackground": true,
            "ticks": "",
            "zerolinecolor": "white"
           },
           "yaxis": {
            "backgroundcolor": "#E5ECF6",
            "gridcolor": "white",
            "gridwidth": 2,
            "linecolor": "white",
            "showbackground": true,
            "ticks": "",
            "zerolinecolor": "white"
           },
           "zaxis": {
            "backgroundcolor": "#E5ECF6",
            "gridcolor": "white",
            "gridwidth": 2,
            "linecolor": "white",
            "showbackground": true,
            "ticks": "",
            "zerolinecolor": "white"
           }
          },
          "shapedefaults": {
           "line": {
            "color": "#2a3f5f"
           }
          },
          "ternary": {
           "aaxis": {
            "gridcolor": "white",
            "linecolor": "white",
            "ticks": ""
           },
           "baxis": {
            "gridcolor": "white",
            "linecolor": "white",
            "ticks": ""
           },
           "bgcolor": "#E5ECF6",
           "caxis": {
            "gridcolor": "white",
            "linecolor": "white",
            "ticks": ""
           }
          },
          "title": {
           "x": 0.05
          },
          "xaxis": {
           "automargin": true,
           "gridcolor": "white",
           "linecolor": "white",
           "ticks": "",
           "title": {
            "standoff": 15
           },
           "zerolinecolor": "white",
           "zerolinewidth": 2
          },
          "yaxis": {
           "automargin": true,
           "gridcolor": "white",
           "linecolor": "white",
           "ticks": "",
           "title": {
            "standoff": 15
           },
           "zerolinecolor": "white",
           "zerolinewidth": 2
          }
         }
        },
        "title": {
         "text": "Brand Distribution %"
        }
       }
      }
     },
     "metadata": {},
     "output_type": "display_data"
    }
   ],
   "source": [
    "FILE_NAME = \"doug_score.csv\"\n",
    "FILE_PATH = os.path.join(os.getcwd(), FILE_NAME)\n",
    "\n",
    "\n",
    "def create_dashboard(data):\n",
    "    # Create a new figure with 2 subplots: one for histogram and one for pie chart\n",
    "    fig, axs = plt.subplots(1, 2, figsize=(15, 7))\n",
    "\n",
    "    # Histogram\n",
    "    axs[0].hist(data, bins=10, color='skyblue', edgecolor='black')\n",
    "    axs[0].set_title('Histogram of Data Distribution')\n",
    "    axs[0].set_xlabel('Value')\n",
    "    axs[0].set_ylabel('Frequency')\n",
    "\n",
    "    # Pie chart for value counts\n",
    "    unique, counts = np.unique(data, return_counts=True)\n",
    "    axs[1].pie(counts, labels=unique, autopct='%1.1f%%', startangle=90, colors=plt.cm.Paired.colors)\n",
    "    axs[1].set_title('Pie Chart of Value Counts')\n",
    "\n",
    "    # Display the dashboard\n",
    "    plt.tight_layout()\n",
    "    plt.show()\n",
    "\n",
    "import plotly \n",
    "import plotly.graph_objects as go\n",
    "from plotly.subplots import make_subplots\n",
    "\n",
    "def create_histogram_x(data, title): \n",
    "    fig = go.Figure()\n",
    "    fig.add_trace(go.Histogram(x=data, \n",
    "                               histnorm='percent',\n",
    "                               marker=dict(color='skyblue', line=dict(color='black', width=1)),\n",
    "                               name=title))\n",
    "    fig.update_layout(title_text=title)\n",
    "    fig.show()\n",
    "\n",
    "def create_top_n_chart(data, title, n):\n",
    "    res = np.unique(data, return_counts=True)\n",
    "    # sort the counts and unique and only take the top n\n",
    "    sorted_data = sorted(zip(res[0], 100 * res[1].astype(int)/len(data)), key=lambda x: x[1], reverse=True)[:n]\n",
    "    fig = go.Figure()\n",
    "    fig.add_trace(go.Bar(x=list([x[0] for x in sorted_data]), y=list([x[1] for x in sorted_data]), \n",
    "                         marker=dict(color=plotly.colors.qualitative.Light24),\n",
    "                         name=title))\n",
    "    fig.update_layout(title_text=title)\n",
    "    fig.show()\n",
    "\n",
    "def create_dashboard_x(data):\n",
    "    # Create a subplot with 1 row and 2 columns (one for histogram and one for pie chart)\n",
    "    fig = make_subplots(rows=1, cols=2, \n",
    "                        specs=[[{\"type\": \"histogram\"}, {\"type\": \"pie\"}]],\n",
    "                        subplot_titles=('Histogram of Data Distribution', 'Pie Chart of Value Counts'))\n",
    "\n",
    "    # Histogram\n",
    "    fig.add_trace(go.Histogram(x=data, \n",
    "                               marker=dict(color='skyblue', line=dict(color='black', width=1)),\n",
    "                               name='Data Distribution'),\n",
    "                  row=1, col=1)\n",
    "\n",
    "    # Pie chart for value counts\n",
    "    unique, counts = np.unique(data, return_counts=True)\n",
    "    fig.add_trace(go.Pie(labels=unique, values=counts, \n",
    "                         marker=dict(colors=plotly.colors.qualitative.Light24),\n",
    "                         name='Value Counts', hole=0.3),\n",
    "                  row=1, col=2)\n",
    "\n",
    "    # Update layout for better appearance\n",
    "    fig.update_layout(title_text=\"Data Visualization Dashboard\", showlegend=False)\n",
    "    fig.show()\n",
    "\n",
    "def load_data(file_path: str) -> pd.DataFrame:\n",
    "    df = pd.read_csv(FILE_PATH)\n",
    "    return df\n",
    "\n",
    "\n",
    "df = load_data(FILE_PATH)\n",
    "\n",
    "\n",
    "create_histogram_x(df['brand'], \"Brand Distribution %\")\n",
    "create_top_n_chart(df['brand'], \"Brand Distribution %\", 20)\n",
    "\n",
    "\n",
    "# one hot encoding of brand column \n",
    "# df = pd.concat([df, pd.get_dummies(df[\"brand\"], drop_first=False).astype(int)], axis=1)"
   ]
  }
 ],
 "metadata": {
  "kernelspec": {
   "display_name": "venv",
   "language": "python",
   "name": "python3"
  },
  "language_info": {
   "codemirror_mode": {
    "name": "ipython",
    "version": 3
   },
   "file_extension": ".py",
   "mimetype": "text/x-python",
   "name": "python",
   "nbconvert_exporter": "python",
   "pygments_lexer": "ipython3",
   "version": "3.11.4"
  }
 },
 "nbformat": 4,
 "nbformat_minor": 2
}
