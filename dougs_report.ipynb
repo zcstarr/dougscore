{
 "cells": [
  {
   "cell_type": "markdown",
   "metadata": {},
   "source": [
    "# Intro Doug Score - A look from an analytical angle\n",
    "\n",
    "In this report, I provide a quick insight into how Doug Demuro an avid car reviewer, might be evaluating cars. This analysis starts with a look at the review data, from the \n",
    "number of brands he's reviewed, the countries of the cars the age of the car, as well as filming location. We'll take a look at all of the factors that go into the doug score based off of \n",
    "[Doug's Score Sheet](http://www.dougdemuro.com/dougscore) and our static copy [here]() used for this submission. These features listed provides the basis for his daily, weekend, and final dougscore\n",
    "\n",
    "\n",
    "### Scores at a glance\n",
    "### What's the score\n",
    "`Total Weekend Score` + `Total Daily Score`= `Dougscore`\n",
    "\n",
    "### Weekend Score\n",
    "The weekend score consists of 5 features, that range from a score of 1-10\n",
    "\n",
    "- Styling\n",
    "- Acceleration\n",
    "- Handling\n",
    "- Fun Factor\n",
    "- Cool Factor\n",
    "\n",
    "### Daily Score\n",
    "The daily score consists of 5 features, that range from a score of 1-10\n",
    "\n",
    "\n",
    "Doug provides two categories of score, a weekend score and a daily score. The combined scores lead to a dougscore\n",
    "\n"
   ]
  },
  {
   "cell_type": "markdown",
   "metadata": {},
   "source": []
  }
 ],
 "metadata": {
  "language_info": {
   "name": "python"
  }
 },
 "nbformat": 4,
 "nbformat_minor": 2
}
